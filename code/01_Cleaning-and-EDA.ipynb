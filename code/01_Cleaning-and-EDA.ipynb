{
 "cells": [
  {
   "cell_type": "markdown",
   "metadata": {},
   "source": [
    "# Project 3: Web APIs & NLP\n",
    "## *Data Cleaning and EDA*\n",
    "\n",
    "In this notebook:\n",
    "\n",
    "* [Initial data exploration](#initial)\n",
    "* [Handle null entries](#null-entries)\n",
    "* [Encoding target variable](#ohe)\n",
    "* [Cleaning text](#clean-text)\n",
    "* [Export to CSV](#export-csv)\n",
    "\n",
    "#### Import Libraries & Read in Data"
   ]
  },
  {
   "cell_type": "code",
   "execution_count": 31,
   "metadata": {},
   "outputs": [],
   "source": [
    "## standard imports \n",
    "import pandas as pd \n",
    "import numpy as np\n",
    "import re\n",
    "## visualizations\n",
    "import matplotlib.pyplot as plt\n",
    "import seaborn as sns\n",
    "## preprocessing\n",
    "from sklearn.pipeline import make_pipeline\n",
    "from sklearn.preprocessing import StandardScaler, PolynomialFeatures\n",
    "from sklearn.feature_selection import SelectKBest, f_regression\n",
    "from sklearn.dummy import DummyClassifier\n",
    "## modeling\n",
    "from sklearn.linear_model import LogisticRegression, LinearRegression, Lasso, Ridge, ElasticNet\n",
    "from sklearn.model_selection import train_test_split, GridSearchCV\n",
    "from sklearn.neighbors import KNeighborsClassifier, KNeighborsRegressor\n",
    "from sklearn.svm import SVC, SVR\n",
    "from sklearn.naive_bayes import MultinomialNB\n",
    "## trees\n",
    "from sklearn.tree import DecisionTreeClassifier, DecisionTreeRegressor\n",
    "from sklearn.ensemble import BaggingClassifier, BaggingRegressor, RandomForestClassifier, ExtraTreesClassifier, RandomForestRegressor, ExtraTreesRegressor, AdaBoostRegressor, AdaBoostClassifier, GradientBoostingRegressor\n",
    "## NLP\n",
    "from sklearn.feature_extraction.text import CountVectorizer\n",
    "## analysis\n",
    "from sklearn.metrics import confusion_matrix, plot_confusion_matrix, accuracy_score, make_scorer, f1_score, mean_squared_error\n",
    "\n",
    "## options\n",
    "import sklearn\n",
    "pd.options.display.max_rows = 4000\n",
    "pd.options.display.max_columns = 100\n",
    "pd.set_option('max_colwidth', 100)"
   ]
  },
  {
   "cell_type": "code",
   "execution_count": 32,
   "metadata": {},
   "outputs": [],
   "source": [
    "### read in data\n",
    "data = pd.read_csv('../data/reddit_posts.csv')"
   ]
  },
  {
   "cell_type": "markdown",
   "metadata": {},
   "source": [
    "# Initial data exploration<a class=\"anchor\" id=\"initial\"></a>\n",
    "<hr/>"
   ]
  },
  {
   "cell_type": "code",
   "execution_count": 33,
   "metadata": {},
   "outputs": [
    {
     "data": {
      "text/html": [
       "<div>\n",
       "<style scoped>\n",
       "    .dataframe tbody tr th:only-of-type {\n",
       "        vertical-align: middle;\n",
       "    }\n",
       "\n",
       "    .dataframe tbody tr th {\n",
       "        vertical-align: top;\n",
       "    }\n",
       "\n",
       "    .dataframe thead th {\n",
       "        text-align: right;\n",
       "    }\n",
       "</style>\n",
       "<table border=\"1\" class=\"dataframe\">\n",
       "  <thead>\n",
       "    <tr style=\"text-align: right;\">\n",
       "      <th></th>\n",
       "      <th>title</th>\n",
       "      <th>created_utc</th>\n",
       "      <th>selftext</th>\n",
       "      <th>subreddit</th>\n",
       "      <th>author</th>\n",
       "      <th>media_only</th>\n",
       "      <th>permalink</th>\n",
       "    </tr>\n",
       "  </thead>\n",
       "  <tbody>\n",
       "    <tr>\n",
       "      <th>0</th>\n",
       "      <td>What to do after joining the brotherhood of st...</td>\n",
       "      <td>1601669856</td>\n",
       "      <td>I just joined after completing the quest for b...</td>\n",
       "      <td>Fallout</td>\n",
       "      <td>scud214</td>\n",
       "      <td>False</td>\n",
       "      <td>/r/Fallout/comments/j424ru/what_to_do_after_jo...</td>\n",
       "    </tr>\n",
       "    <tr>\n",
       "      <th>1</th>\n",
       "      <td>Pipboy</td>\n",
       "      <td>1601669271</td>\n",
       "      <td>[removed]</td>\n",
       "      <td>Fallout</td>\n",
       "      <td>locogringo90</td>\n",
       "      <td>False</td>\n",
       "      <td>/r/Fallout/comments/j41yey/pipboy/</td>\n",
       "    </tr>\n",
       "    <tr>\n",
       "      <th>2</th>\n",
       "      <td>Fallout 5 location?</td>\n",
       "      <td>1601667863</td>\n",
       "      <td>[removed]</td>\n",
       "      <td>Fallout</td>\n",
       "      <td>leolupascu03</td>\n",
       "      <td>False</td>\n",
       "      <td>/r/Fallout/comments/j41ifv/fallout_5_location/</td>\n",
       "    </tr>\n",
       "    <tr>\n",
       "      <th>3</th>\n",
       "      <td>Maxsons brotherhood of steel vs the NCR</td>\n",
       "      <td>1601667591</td>\n",
       "      <td>Who’d win? The NCR in my opinion would win but...</td>\n",
       "      <td>Fallout</td>\n",
       "      <td>Urmomgay890</td>\n",
       "      <td>False</td>\n",
       "      <td>/r/Fallout/comments/j41f9u/maxsons_brotherhood...</td>\n",
       "    </tr>\n",
       "    <tr>\n",
       "      <th>4</th>\n",
       "      <td>I have seen a new power generator its the dome...</td>\n",
       "      <td>1601667534</td>\n",
       "      <td>NaN</td>\n",
       "      <td>Fallout</td>\n",
       "      <td>HeyyyItsFrosty</td>\n",
       "      <td>False</td>\n",
       "      <td>/r/Fallout/comments/j41ep3/i_have_seen_a_new_p...</td>\n",
       "    </tr>\n",
       "  </tbody>\n",
       "</table>\n",
       "</div>"
      ],
      "text/plain": [
       "                                               title  created_utc  \\\n",
       "0  What to do after joining the brotherhood of st...   1601669856   \n",
       "1                                             Pipboy   1601669271   \n",
       "2                                Fallout 5 location?   1601667863   \n",
       "3            Maxsons brotherhood of steel vs the NCR   1601667591   \n",
       "4  I have seen a new power generator its the dome...   1601667534   \n",
       "\n",
       "                                            selftext subreddit  \\\n",
       "0  I just joined after completing the quest for b...   Fallout   \n",
       "1                                          [removed]   Fallout   \n",
       "2                                          [removed]   Fallout   \n",
       "3  Who’d win? The NCR in my opinion would win but...   Fallout   \n",
       "4                                                NaN   Fallout   \n",
       "\n",
       "           author  media_only  \\\n",
       "0         scud214       False   \n",
       "1    locogringo90       False   \n",
       "2    leolupascu03       False   \n",
       "3     Urmomgay890       False   \n",
       "4  HeyyyItsFrosty       False   \n",
       "\n",
       "                                           permalink  \n",
       "0  /r/Fallout/comments/j424ru/what_to_do_after_jo...  \n",
       "1                 /r/Fallout/comments/j41yey/pipboy/  \n",
       "2     /r/Fallout/comments/j41ifv/fallout_5_location/  \n",
       "3  /r/Fallout/comments/j41f9u/maxsons_brotherhood...  \n",
       "4  /r/Fallout/comments/j41ep3/i_have_seen_a_new_p...  "
      ]
     },
     "execution_count": 33,
     "metadata": {},
     "output_type": "execute_result"
    }
   ],
   "source": [
    "data.head()"
   ]
  },
  {
   "cell_type": "code",
   "execution_count": 19,
   "metadata": {},
   "outputs": [
    {
     "data": {
      "text/plain": [
       "Index(['title', 'created_utc', 'selftext', 'subreddit', 'author', 'media_only',\n",
       "       'permalink'],\n",
       "      dtype='object')"
      ]
     },
     "execution_count": 19,
     "metadata": {},
     "output_type": "execute_result"
    }
   ],
   "source": [
    "data.columns"
   ]
  },
  {
   "cell_type": "code",
   "execution_count": 20,
   "metadata": {},
   "outputs": [
    {
     "data": {
      "text/plain": [
       "(4000, 7)"
      ]
     },
     "execution_count": 20,
     "metadata": {},
     "output_type": "execute_result"
    }
   ],
   "source": [
    "data.shape"
   ]
  },
  {
   "cell_type": "markdown",
   "metadata": {},
   "source": [
    "## Handle Null Entries <a class=\"anchor\" id=\"null-entries\"></a>\n",
    "<hr/>"
   ]
  },
  {
   "cell_type": "code",
   "execution_count": 34,
   "metadata": {},
   "outputs": [
    {
     "data": {
      "text/plain": [
       "title             0\n",
       "created_utc       0\n",
       "selftext       1774\n",
       "subreddit         0\n",
       "author            0\n",
       "media_only        0\n",
       "permalink         0\n",
       "dtype: int64"
      ]
     },
     "execution_count": 34,
     "metadata": {},
     "output_type": "execute_result"
    }
   ],
   "source": [
    "data.isna().sum()"
   ]
  },
  {
   "cell_type": "markdown",
   "metadata": {},
   "source": [
    "### Missing comments\n",
    "\n",
    "Reddit posts often pose questions to people so the actual comment portion is blank. Instead of dropping these rows, we'll use the title of the post as the comment text."
   ]
  },
  {
   "cell_type": "code",
   "execution_count": 35,
   "metadata": {},
   "outputs": [],
   "source": [
    "data['selftext'].fillna(data['title'], inplace=True)"
   ]
  },
  {
   "cell_type": "code",
   "execution_count": 36,
   "metadata": {},
   "outputs": [
    {
     "data": {
      "text/html": [
       "<div>\n",
       "<style scoped>\n",
       "    .dataframe tbody tr th:only-of-type {\n",
       "        vertical-align: middle;\n",
       "    }\n",
       "\n",
       "    .dataframe tbody tr th {\n",
       "        vertical-align: top;\n",
       "    }\n",
       "\n",
       "    .dataframe thead th {\n",
       "        text-align: right;\n",
       "    }\n",
       "</style>\n",
       "<table border=\"1\" class=\"dataframe\">\n",
       "  <thead>\n",
       "    <tr style=\"text-align: right;\">\n",
       "      <th></th>\n",
       "      <th>title</th>\n",
       "      <th>created_utc</th>\n",
       "      <th>selftext</th>\n",
       "      <th>subreddit</th>\n",
       "      <th>author</th>\n",
       "      <th>media_only</th>\n",
       "      <th>permalink</th>\n",
       "    </tr>\n",
       "  </thead>\n",
       "  <tbody>\n",
       "    <tr>\n",
       "      <th>0</th>\n",
       "      <td>What to do after joining the brotherhood of st...</td>\n",
       "      <td>1601669856</td>\n",
       "      <td>I just joined after completing the quest for b...</td>\n",
       "      <td>Fallout</td>\n",
       "      <td>scud214</td>\n",
       "      <td>False</td>\n",
       "      <td>/r/Fallout/comments/j424ru/what_to_do_after_jo...</td>\n",
       "    </tr>\n",
       "    <tr>\n",
       "      <th>1</th>\n",
       "      <td>Pipboy</td>\n",
       "      <td>1601669271</td>\n",
       "      <td>[removed]</td>\n",
       "      <td>Fallout</td>\n",
       "      <td>locogringo90</td>\n",
       "      <td>False</td>\n",
       "      <td>/r/Fallout/comments/j41yey/pipboy/</td>\n",
       "    </tr>\n",
       "    <tr>\n",
       "      <th>2</th>\n",
       "      <td>Fallout 5 location?</td>\n",
       "      <td>1601667863</td>\n",
       "      <td>[removed]</td>\n",
       "      <td>Fallout</td>\n",
       "      <td>leolupascu03</td>\n",
       "      <td>False</td>\n",
       "      <td>/r/Fallout/comments/j41ifv/fallout_5_location/</td>\n",
       "    </tr>\n",
       "    <tr>\n",
       "      <th>3</th>\n",
       "      <td>Maxsons brotherhood of steel vs the NCR</td>\n",
       "      <td>1601667591</td>\n",
       "      <td>Who’d win? The NCR in my opinion would win but...</td>\n",
       "      <td>Fallout</td>\n",
       "      <td>Urmomgay890</td>\n",
       "      <td>False</td>\n",
       "      <td>/r/Fallout/comments/j41f9u/maxsons_brotherhood...</td>\n",
       "    </tr>\n",
       "    <tr>\n",
       "      <th>4</th>\n",
       "      <td>I have seen a new power generator its the dome...</td>\n",
       "      <td>1601667534</td>\n",
       "      <td>I have seen a new power generator its the dome...</td>\n",
       "      <td>Fallout</td>\n",
       "      <td>HeyyyItsFrosty</td>\n",
       "      <td>False</td>\n",
       "      <td>/r/Fallout/comments/j41ep3/i_have_seen_a_new_p...</td>\n",
       "    </tr>\n",
       "  </tbody>\n",
       "</table>\n",
       "</div>"
      ],
      "text/plain": [
       "                                               title  created_utc  \\\n",
       "0  What to do after joining the brotherhood of st...   1601669856   \n",
       "1                                             Pipboy   1601669271   \n",
       "2                                Fallout 5 location?   1601667863   \n",
       "3            Maxsons brotherhood of steel vs the NCR   1601667591   \n",
       "4  I have seen a new power generator its the dome...   1601667534   \n",
       "\n",
       "                                            selftext subreddit  \\\n",
       "0  I just joined after completing the quest for b...   Fallout   \n",
       "1                                          [removed]   Fallout   \n",
       "2                                          [removed]   Fallout   \n",
       "3  Who’d win? The NCR in my opinion would win but...   Fallout   \n",
       "4  I have seen a new power generator its the dome...   Fallout   \n",
       "\n",
       "           author  media_only  \\\n",
       "0         scud214       False   \n",
       "1    locogringo90       False   \n",
       "2    leolupascu03       False   \n",
       "3     Urmomgay890       False   \n",
       "4  HeyyyItsFrosty       False   \n",
       "\n",
       "                                           permalink  \n",
       "0  /r/Fallout/comments/j424ru/what_to_do_after_jo...  \n",
       "1                 /r/Fallout/comments/j41yey/pipboy/  \n",
       "2     /r/Fallout/comments/j41ifv/fallout_5_location/  \n",
       "3  /r/Fallout/comments/j41f9u/maxsons_brotherhood...  \n",
       "4  /r/Fallout/comments/j41ep3/i_have_seen_a_new_p...  "
      ]
     },
     "execution_count": 36,
     "metadata": {},
     "output_type": "execute_result"
    }
   ],
   "source": [
    "data.head()"
   ]
  },
  {
   "cell_type": "markdown",
   "metadata": {},
   "source": [
    "### Handle `[removed]` text\n",
    "\n",
    "There are still a few posts with 'removed' as the comment text. We'll just drop these rows."
   ]
  },
  {
   "cell_type": "code",
   "execution_count": 37,
   "metadata": {},
   "outputs": [],
   "source": [
    "data = data[data['selftext'] !='[removed]']"
   ]
  },
  {
   "cell_type": "code",
   "execution_count": 38,
   "metadata": {},
   "outputs": [
    {
     "data": {
      "text/plain": [
       "(9072, 7)"
      ]
     },
     "execution_count": 38,
     "metadata": {},
     "output_type": "execute_result"
    }
   ],
   "source": [
    "data.shape"
   ]
  },
  {
   "cell_type": "code",
   "execution_count": 39,
   "metadata": {},
   "outputs": [
    {
     "data": {
      "text/plain": [
       "startrek    4754\n",
       "Fallout     4318\n",
       "Name: subreddit, dtype: int64"
      ]
     },
     "execution_count": 39,
     "metadata": {},
     "output_type": "execute_result"
    }
   ],
   "source": [
    "data['subreddit'].value_counts()"
   ]
  },
  {
   "cell_type": "markdown",
   "metadata": {},
   "source": [
    "## Encoding target variable <a class=\"anchor\" id=\"ohe\"></a>\n",
    "<hr/>"
   ]
  },
  {
   "cell_type": "code",
   "execution_count": 40,
   "metadata": {},
   "outputs": [],
   "source": [
    "data['is_fallout'] = np.where(data['subreddit'] == 'Fallout', 1, 0)\n",
    "\n",
    "# data['is_fallout'] = data['subreddit'].replace({'Fallout':1, 'startrek':0})"
   ]
  },
  {
   "cell_type": "code",
   "execution_count": 41,
   "metadata": {},
   "outputs": [
    {
     "data": {
      "text/html": [
       "<div>\n",
       "<style scoped>\n",
       "    .dataframe tbody tr th:only-of-type {\n",
       "        vertical-align: middle;\n",
       "    }\n",
       "\n",
       "    .dataframe tbody tr th {\n",
       "        vertical-align: top;\n",
       "    }\n",
       "\n",
       "    .dataframe thead th {\n",
       "        text-align: right;\n",
       "    }\n",
       "</style>\n",
       "<table border=\"1\" class=\"dataframe\">\n",
       "  <thead>\n",
       "    <tr style=\"text-align: right;\">\n",
       "      <th></th>\n",
       "      <th>title</th>\n",
       "      <th>created_utc</th>\n",
       "      <th>selftext</th>\n",
       "      <th>subreddit</th>\n",
       "      <th>author</th>\n",
       "      <th>media_only</th>\n",
       "      <th>permalink</th>\n",
       "      <th>is_fallout</th>\n",
       "    </tr>\n",
       "  </thead>\n",
       "  <tbody>\n",
       "    <tr>\n",
       "      <th>9995</th>\n",
       "      <td>Sub Rosa has to be the worst episode of all ti...</td>\n",
       "      <td>1594922247</td>\n",
       "      <td>Sub Rosa has to be the worst episode of all ti...</td>\n",
       "      <td>startrek</td>\n",
       "      <td>GuiltChip</td>\n",
       "      <td>False</td>\n",
       "      <td>/r/startrek/comments/hseles/sub_rosa_has_to_be...</td>\n",
       "      <td>0</td>\n",
       "    </tr>\n",
       "    <tr>\n",
       "      <th>9996</th>\n",
       "      <td>That’s a stupid question! (DS9)</td>\n",
       "      <td>1594919601</td>\n",
       "      <td>I saw a subreddit today called act like you be...</td>\n",
       "      <td>startrek</td>\n",
       "      <td>alexanderatl</td>\n",
       "      <td>False</td>\n",
       "      <td>/r/startrek/comments/hsdozd/thats_a_stupid_que...</td>\n",
       "      <td>0</td>\n",
       "    </tr>\n",
       "    <tr>\n",
       "      <th>9997</th>\n",
       "      <td>Remember when star trek tos (supposed to be) e...</td>\n",
       "      <td>1594918197</td>\n",
       "      <td>[https://giphy.com/gifs/Kf6Wn2D1IDM4jOEY7H](ht...</td>\n",
       "      <td>startrek</td>\n",
       "      <td>britbrayt</td>\n",
       "      <td>False</td>\n",
       "      <td>/r/startrek/comments/hsd6hx/remember_when_star...</td>\n",
       "      <td>0</td>\n",
       "    </tr>\n",
       "    <tr>\n",
       "      <th>9998</th>\n",
       "      <td>Beware the masks for sale from the Official St...</td>\n",
       "      <td>1594916790</td>\n",
       "      <td>They are super expensive for what they are (wh...</td>\n",
       "      <td>startrek</td>\n",
       "      <td>FrMark</td>\n",
       "      <td>False</td>\n",
       "      <td>/r/startrek/comments/hscnw5/beware_the_masks_f...</td>\n",
       "      <td>0</td>\n",
       "    </tr>\n",
       "    <tr>\n",
       "      <th>9999</th>\n",
       "      <td>Does star trek picard ruin tng’s ending</td>\n",
       "      <td>1594916769</td>\n",
       "      <td>Because of the quarantine I finally convinced ...</td>\n",
       "      <td>startrek</td>\n",
       "      <td>kuzuthunder</td>\n",
       "      <td>False</td>\n",
       "      <td>/r/startrek/comments/hscnnm/does_star_trek_pic...</td>\n",
       "      <td>0</td>\n",
       "    </tr>\n",
       "  </tbody>\n",
       "</table>\n",
       "</div>"
      ],
      "text/plain": [
       "                                                  title  created_utc  \\\n",
       "9995  Sub Rosa has to be the worst episode of all ti...   1594922247   \n",
       "9996                    That’s a stupid question! (DS9)   1594919601   \n",
       "9997  Remember when star trek tos (supposed to be) e...   1594918197   \n",
       "9998  Beware the masks for sale from the Official St...   1594916790   \n",
       "9999            Does star trek picard ruin tng’s ending   1594916769   \n",
       "\n",
       "                                               selftext subreddit  \\\n",
       "9995  Sub Rosa has to be the worst episode of all ti...  startrek   \n",
       "9996  I saw a subreddit today called act like you be...  startrek   \n",
       "9997  [https://giphy.com/gifs/Kf6Wn2D1IDM4jOEY7H](ht...  startrek   \n",
       "9998  They are super expensive for what they are (wh...  startrek   \n",
       "9999  Because of the quarantine I finally convinced ...  startrek   \n",
       "\n",
       "            author  media_only  \\\n",
       "9995     GuiltChip       False   \n",
       "9996  alexanderatl       False   \n",
       "9997     britbrayt       False   \n",
       "9998        FrMark       False   \n",
       "9999   kuzuthunder       False   \n",
       "\n",
       "                                              permalink  is_fallout  \n",
       "9995  /r/startrek/comments/hseles/sub_rosa_has_to_be...           0  \n",
       "9996  /r/startrek/comments/hsdozd/thats_a_stupid_que...           0  \n",
       "9997  /r/startrek/comments/hsd6hx/remember_when_star...           0  \n",
       "9998  /r/startrek/comments/hscnw5/beware_the_masks_f...           0  \n",
       "9999  /r/startrek/comments/hscnnm/does_star_trek_pic...           0  "
      ]
     },
     "execution_count": 41,
     "metadata": {},
     "output_type": "execute_result"
    }
   ],
   "source": [
    "data.tail()"
   ]
  },
  {
   "cell_type": "markdown",
   "metadata": {},
   "source": [
    "## Cleaning Text <a class=\"anchor\" id=\"clean-text\"></a>\n",
    "<hr/>\n",
    "Text from urls keeps appearing in top words. Decided to remove urls from comment text.\n",
    "\n",
    "### Remove urls from comments"
   ]
  },
  {
   "cell_type": "code",
   "execution_count": 42,
   "metadata": {},
   "outputs": [],
   "source": [
    "data['selftext'].replace('https?:\\/\\/.*[\\r\\n]*',' ', regex=True, inplace=True)"
   ]
  },
  {
   "cell_type": "code",
   "execution_count": 43,
   "metadata": {},
   "outputs": [],
   "source": [
    "### remove some extra characters\n",
    "data['selftext'].replace('\\n',' ', regex=True, inplace=True)"
   ]
  },
  {
   "cell_type": "markdown",
   "metadata": {},
   "source": [
    "### Export cleaned data to CSV <a class=\"anchor\" id=\"export-csv\"></a>\n",
    "<hr/>"
   ]
  },
  {
   "cell_type": "code",
   "execution_count": 44,
   "metadata": {},
   "outputs": [],
   "source": [
    "data.to_csv('../data/reddit_posts_clean.csv')"
   ]
  },
  {
   "cell_type": "markdown",
   "metadata": {},
   "source": []
  },
  {
   "cell_type": "code",
   "execution_count": null,
   "metadata": {},
   "outputs": [],
   "source": []
  },
  {
   "cell_type": "code",
   "execution_count": null,
   "metadata": {},
   "outputs": [],
   "source": []
  }
 ],
 "metadata": {
  "kernelspec": {
   "display_name": "Python 3",
   "language": "python",
   "name": "python3"
  },
  "language_info": {
   "codemirror_mode": {
    "name": "ipython",
    "version": 3
   },
   "file_extension": ".py",
   "mimetype": "text/x-python",
   "name": "python",
   "nbconvert_exporter": "python",
   "pygments_lexer": "ipython3",
   "version": "3.8.3"
  }
 },
 "nbformat": 4,
 "nbformat_minor": 4
}
